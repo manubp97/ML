{
 "cells": [
  {
   "cell_type": "markdown",
   "metadata": {},
   "source": [
    "# Homework 1.A - Optimization (basic, obligatory)\n",
    "---"
   ]
  },
  {
   "cell_type": "markdown",
   "metadata": {},
   "source": [
    "This exercise requires that each group:\n",
    "\n",
    "1. Understands the attached optimization algorithm.\n",
    "2. Detects what makes the algorithm perform not steadily better along generations (i.e. the best solution of the population does not necessarily improve over successive generations).\n",
    "3. Modify the different evolutionary operators (selection, crossover, mutation, replacement) for the algorithm to perform better.\n",
    "4. Deliver a written report describing the included modifications, together with the modified script.\n",
    "\n",
    "Remember to include names, surnames and DNI numbers of all members of the group in the report and the Python script."
   ]
  },
  {
   "cell_type": "markdown",
   "metadata": {},
   "source": [
    "## 1. Understanding original algorithm"
   ]
  },
  {
   "cell_type": "markdown",
   "metadata": {},
   "source": [
    "### 1.1. Importing packages"
   ]
  },
  {
   "cell_type": "code",
   "execution_count": null,
   "metadata": {},
   "outputs": [],
   "source": [
    "import random\n",
    "import math\n",
    "from matplotlib import pyplot as plt"
   ]
  },
  {
   "cell_type": "markdown",
   "metadata": {},
   "source": [
    "### 1.2. Defining functions"
   ]
  },
  {
   "cell_type": "markdown",
   "metadata": {},
   "source": [
    "The function *apply_function* is the fitness function. It evaluates how good or how bad is the performance of an individual from anoher one. The individuals with the best fitness should be preserved and reproduce while worst should be penalized. It gets an individual as single argument. It applies the following function:"
   ]
  },
  {
   "cell_type": "markdown",
   "metadata": {},
   "source": [
    "![](.\\images\\ec.jpg \"ecuacion\")"
   ]
  },
  {
   "cell_type": "markdown",
   "metadata": {},
   "source": [
    "In a tridimentional representation [4.2]:\n",
    "![](.\\images\\5.jpg \"3D representation\")"
   ]
  },
  {
   "cell_type": "code",
   "execution_count": 3,
   "metadata": {},
   "outputs": [],
   "source": [
    "def apply_function(individual):\n",
    "    x = individual[\"x\"]\n",
    "    y = individual[\"y\"]\n",
    "    firstSum = x**2.0 + y**2.0\n",
    "    secondSum = math.cos(2.0*math.pi*x) + math.cos(2.0*math.pi*y) \n",
    "    n = 2\n",
    "    return -(-20.0*math.exp(-0.2*math.sqrt(firstSum/n)) - math.exp(secondSum/n) + 20 + math.e)"
   ]
  },
  {
   "cell_type": "markdown",
   "metadata": {},
   "source": [
    "The function *generate_population* returns the *population* list of *size* individuals which are randomly generated through *random.uniform* function between the values *x_boundaries* and *y_boundaries*."
   ]
  },
  {
   "cell_type": "code",
   "execution_count": null,
   "metadata": {},
   "outputs": [],
   "source": [
    "def generate_population(size, x_boundaries, y_boundaries):\n",
    "    lower_x_boundary, upper_x_boundary = x_boundaries\n",
    "    lower_y_boundary, upper_y_boundary = y_boundaries\n",
    "\n",
    "    population = []\n",
    "    for i in range(size):\n",
    "        individual = {\n",
    "            \"x\": random.uniform(lower_x_boundary, upper_x_boundary),\n",
    "            \"y\": random.uniform(lower_y_boundary, upper_y_boundary),\n",
    "        }\n",
    "        population.append(individual)\n",
    "\n",
    "    return population"
   ]
  },
  {
   "cell_type": "markdown",
   "metadata": {},
   "source": [
    "The function *selected_by_roulette* gets as parameters a sorted population and the sum of all of their fitness scores. Overall, this function selects an individual for making the next generation. This selection method consists on assigning a probability to each individual, proportional to its fitness and normalize it with the total sum of them. Therefore, individuals with higher fitness are more likely to be selected, however, individuals with lower fitness are also elegible. This method provides variability to the function and it is at least one of the causes why the algorithm is not performing better among generations.\n",
    "The offset parameter allows the function to perform well when the lowest fitness is smaller than 0. The offset, defined as -lowest fitness is added to every individual and is also added to the normalized fitness sum one time for every individual whose fitness is calculated."
   ]
  },
  {
   "cell_type": "code",
   "execution_count": null,
   "metadata": {},
   "outputs": [],
   "source": [
    "def select_by_roulette(sorted_population, fitness_sum):\n",
    "    offset = 0\n",
    "    normalized_fitness_sum = fitness_sum\n",
    "\n",
    "    lowest_fitness = apply_function(sorted_population[0])\n",
    "    if lowest_fitness < 0:\n",
    "        offset = -lowest_fitness\n",
    "        normalized_fitness_sum += offset * len(sorted_population)\n",
    "\n",
    "    draw = random.uniform(0, 1)\n",
    "\n",
    "    accumulated = 0\n",
    "    for individual in sorted_population:\n",
    "        fitness = apply_function(individual) + offset\n",
    "        probability = fitness / normalized_fitness_sum\n",
    "        accumulated += probability\n",
    "\n",
    "        if draw <= accumulated:\n",
    "            return individual"
   ]
  },
  {
   "cell_type": "code",
   "execution_count": null,
   "metadata": {},
   "outputs": [],
   "source": [
    "def sort_population_by_fitness(population):\n",
    "    return sorted(population, key=apply_function)"
   ]
  },
  {
   "cell_type": "markdown",
   "metadata": {},
   "source": [
    "*crossover* function returns *x* and *y* calculated as the mean of the values from both individuals that are crossed."
   ]
  },
  {
   "cell_type": "code",
   "execution_count": null,
   "metadata": {},
   "outputs": [],
   "source": [
    "def crossover(individual_a, individual_b):\n",
    "    xa = individual_a[\"x\"]\n",
    "    ya = individual_a[\"y\"]\n",
    "\n",
    "    xb = individual_b[\"x\"]\n",
    "    yb = individual_b[\"y\"]\n",
    "\n",
    "    return {\"x\": (xa + xb) / 2, \"y\": (ya + yb) / 2}"
   ]
  },
  {
   "cell_type": "markdown",
   "metadata": {},
   "source": [
    "*mutate* function provides extra variability within the boundaries -4 and 4. The functions adds a value ([4.5] a pseudo random number from a gaussian distribution with mean 0 and standard deviation of 0.1) to the individual x and another value to y."
   ]
  },
  {
   "cell_type": "code",
   "execution_count": null,
   "metadata": {},
   "outputs": [],
   "source": [
    "def mutate(individual):\n",
    "    next_x = individual[\"x\"] + random.gauss(0,0.1)#random.uniform(-0.05, 0.05)\n",
    "    next_y = individual[\"y\"] + random.gauss(0,0.1)#random.uniform(-0.05, 0.05)\n",
    "\n",
    "    lower_boundary, upper_boundary = (-4, 4)\n",
    "\n",
    "    # Guarantee we keep inside boundaries\n",
    "    next_x = min(max(next_x, lower_boundary), upper_boundary)\n",
    "    next_y = min(max(next_y, lower_boundary), upper_boundary)\n",
    "\n",
    "    return {\"x\": next_x, \"y\": next_y}"
   ]
  },
  {
   "cell_type": "markdown",
   "metadata": {},
   "source": [
    "*make_next_generation* gets as parameter the previous population and returns the next generation by using all the functions that were defined before."
   ]
  },
  {
   "cell_type": "code",
   "execution_count": null,
   "metadata": {},
   "outputs": [],
   "source": [
    "def make_next_generation(previous_population):\n",
    "    next_generation = []\n",
    "    sorted_by_fitness_population = sort_population_by_fitness(previous_population)\n",
    "    population_size = len(previous_population)\n",
    "    fitness_sum = sum(apply_function(individual) for individual in population)\n",
    "\n",
    "    for i in range(population_size):\n",
    "        \n",
    "        father = select_by_roulette(sorted_by_fitness_population, fitness_sum)\n",
    "        mother = select_by_roulette(sorted_by_fitness_population, fitness_sum)\n",
    "\n",
    "        individual = crossover(father, mother)\n",
    "        individual = mutate(individual)\n",
    "        next_generation.append(individual)\n",
    "\n",
    "    return next_generation"
   ]
  },
  {
   "cell_type": "markdown",
   "metadata": {},
   "source": [
    "### 1.3. Main part of the script"
   ]
  },
  {
   "cell_type": "markdown",
   "metadata": {},
   "source": [
    "In this final part of the script we select the number of generations, we generate the population -here I think there is a mistake because we set x and y boundaries between -5 and 5 although in the *mutate* function boundaries are set to -4 and 4-"
   ]
  },
  {
   "cell_type": "code",
   "execution_count": null,
   "metadata": {},
   "outputs": [],
   "source": [
    "generations = 100\n",
    "population = generate_population(size=10, x_boundaries=(-5, 5), y_boundaries=(-5, 5))\n",
    "\n",
    "i = 1\n",
    "bestFitness = []\n",
    "while True:\n",
    "    \n",
    "    print(str(i))\n",
    "\n",
    "    for individual in population:\n",
    "        print(individual, apply_function(individual))\n",
    "\n",
    "    if i == generations:\n",
    "        break\n",
    "\n",
    "    i += 1\n",
    "\n",
    "    population = make_next_generation(population)\n",
    "    best_individual = sort_population_by_fitness(population)[-1]\n",
    "    bestFitness.append(apply_function(best_individual))\n",
    "    \n",
    "best_individual = sort_population_by_fitness(population)[-1]\n",
    "plt.plot(bestFitness)\n",
    "\n",
    "print(\"\\nFINAL RESULT\")\n",
    "print(best_individual, apply_function(best_individual))"
   ]
  },
  {
   "cell_type": "markdown",
   "metadata": {},
   "source": [
    "## 2. Detecting what makes the algorithm not perform steadly better among generations"
   ]
  },
  {
   "cell_type": "markdown",
   "metadata": {},
   "source": [
    "MUTATE"
   ]
  },
  {
   "cell_type": "markdown",
   "metadata": {},
   "source": [
    "## 3. Modifying evolutionary operators"
   ]
  },
  {
   "cell_type": "markdown",
   "metadata": {},
   "source": [
    "Substituing select by roulette for tournament selection [4.6].\\\n",
    "Implement elitism."
   ]
  },
  {
   "cell_type": "code",
   "execution_count": null,
   "metadata": {},
   "outputs": [],
   "source": [
    "def select_individual_by_tournament(sorted_population):\n",
    "    # Get population size\n",
    "    population_size = len(sorted_population)\n",
    "    \n",
    "    # Pick individuals for tournament\n",
    "    fighter_1 = random.randint(0, population_size-1)\n",
    "    fighter_2 = random.randint(0, population_size-1)\n",
    "    9\n",
    "    # Get fitness score for each\n",
    "    fighter_1_fitness = apply_function(sorted_population[fighter_1])\n",
    "    fighter_2_fitness = apply_function(sorted_population[fighter_2])\n",
    "    \n",
    "    # Identify undividual with highest fitness\n",
    "    # Fighter 1 will win if score are equal\n",
    "    if fighter_1_fitness >= fighter_2_fitness:\n",
    "        winner = fighter_1\n",
    "    else:\n",
    "        winner = fighter_2\n",
    "    \n",
    "    # Return the chromsome of the winner\n",
    "    return sorted_population[winner]"
   ]
  },
  {
   "cell_type": "markdown",
   "metadata": {},
   "source": [
    "## 4. Sources"
   ]
  },
  {
   "cell_type": "markdown",
   "metadata": {},
   "source": [
    "1. https://hackernoon.com/genetic-algorithms-explained-a-python-implementation-sd4w374i\n",
    "2. https://c3d.libretexts.org/CalcPlot3D/index.html\n",
    "3. https://en.wikipedia.org/wiki/Fitness_proportionate_selection\n",
    "4. https://en.wikipedia.org/wiki/Genetic_operator#Selection\n",
    "5. https://docs.python.org/3/library/random.html\n",
    "6. https://pythonhealthcare.org/2018/10/01/94-genetic-algorithms-a-simple-genetic-algorithm-code-only/"
   ]
  }
 ],
 "metadata": {
  "kernelspec": {
   "display_name": "Python 3",
   "language": "python",
   "name": "python3"
  },
  "language_info": {
   "codemirror_mode": {
    "name": "ipython",
    "version": 3
   },
   "file_extension": ".py",
   "mimetype": "text/x-python",
   "name": "python",
   "nbconvert_exporter": "python",
   "pygments_lexer": "ipython3",
   "version": "3.7.4"
  }
 },
 "nbformat": 4,
 "nbformat_minor": 2
}
